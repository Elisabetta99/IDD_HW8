{
 "cells": [
  {
   "attachments": {},
   "cell_type": "markdown",
   "metadata": {},
   "source": [
    "## Record Linkage del dataset"
   ]
  },
  {
   "cell_type": "code",
   "execution_count": 5,
   "metadata": {},
   "outputs": [],
   "source": [
    "import pandas as pd\n",
    "import numpy as np\n",
    "\n",
    "import recordlinkage\n",
    "import warnings\n",
    "from recordlinkage.index import Full\n",
    "\n",
    "warnings.filterwarnings('ignore')"
   ]
  },
  {
   "cell_type": "code",
   "execution_count": 6,
   "metadata": {},
   "outputs": [
    {
     "data": {
      "text/html": [
       "<div>\n",
       "<style scoped>\n",
       "    .dataframe tbody tr th:only-of-type {\n",
       "        vertical-align: middle;\n",
       "    }\n",
       "\n",
       "    .dataframe tbody tr th {\n",
       "        vertical-align: top;\n",
       "    }\n",
       "\n",
       "    .dataframe thead th {\n",
       "        text-align: right;\n",
       "    }\n",
       "</style>\n",
       "<table border=\"1\" class=\"dataframe\">\n",
       "  <thead>\n",
       "    <tr style=\"text-align: right;\">\n",
       "      <th></th>\n",
       "      <th>name</th>\n",
       "      <th>valuation</th>\n",
       "      <th>dateJoined</th>\n",
       "      <th>country</th>\n",
       "      <th>city</th>\n",
       "      <th>industry</th>\n",
       "      <th>investors</th>\n",
       "      <th>founded</th>\n",
       "      <th>stage</th>\n",
       "      <th>totalRaised</th>\n",
       "    </tr>\n",
       "  </thead>\n",
       "  <tbody>\n",
       "    <tr>\n",
       "      <th>0</th>\n",
       "      <td>Lacework</td>\n",
       "      <td>$8.3B</td>\n",
       "      <td>1/7/2021</td>\n",
       "      <td>United States</td>\n",
       "      <td>San Jose</td>\n",
       "      <td>Cybersecurity</td>\n",
       "      <td>Sutter Hill Ventures, Liberty Global Ventures,...</td>\n",
       "      <td>2015</td>\n",
       "      <td>Series E</td>\n",
       "      <td>$1.907B</td>\n",
       "    </tr>\n",
       "    <tr>\n",
       "      <th>1</th>\n",
       "      <td>Tipalti</td>\n",
       "      <td>$8.3B</td>\n",
       "      <td>10/6/2020</td>\n",
       "      <td>United States</td>\n",
       "      <td>San Mateo</td>\n",
       "      <td>Fintech</td>\n",
       "      <td>01 Advisors, Zeev Ventures, Group 11</td>\n",
       "      <td>2010</td>\n",
       "      <td>Series F</td>\n",
       "      <td>$556M</td>\n",
       "    </tr>\n",
       "    <tr>\n",
       "      <th>2</th>\n",
       "      <td>Tempus</td>\n",
       "      <td>$8.1B</td>\n",
       "      <td>3/21/2018</td>\n",
       "      <td>United States</td>\n",
       "      <td>Chicago</td>\n",
       "      <td>Health</td>\n",
       "      <td>New Enterprise Associates, T. Rowe Associates,...</td>\n",
       "      <td>2015</td>\n",
       "      <td>Unattributed - II</td>\n",
       "      <td>$1.345B</td>\n",
       "    </tr>\n",
       "    <tr>\n",
       "      <th>3</th>\n",
       "      <td>Anduril</td>\n",
       "      <td>$8.48B</td>\n",
       "      <td>9/11/2019</td>\n",
       "      <td>United States</td>\n",
       "      <td>Irvine</td>\n",
       "      <td>Artificial intelligence</td>\n",
       "      <td>Andreessen Horowitz, Founders Fund, Revolution...</td>\n",
       "      <td>2017</td>\n",
       "      <td>Series E</td>\n",
       "      <td>$2.309B</td>\n",
       "    </tr>\n",
       "    <tr>\n",
       "      <th>4</th>\n",
       "      <td>Bolt</td>\n",
       "      <td>$8.4B</td>\n",
       "      <td>5/29/2018</td>\n",
       "      <td>Estonia</td>\n",
       "      <td>Tallinn</td>\n",
       "      <td>Auto &amp; transportation</td>\n",
       "      <td>Didi Chuxing, Diamler, TMT Investments</td>\n",
       "      <td>2013</td>\n",
       "      <td>Series F</td>\n",
       "      <td>$1.971B</td>\n",
       "    </tr>\n",
       "    <tr>\n",
       "      <th>5</th>\n",
       "      <td>ByteDance</td>\n",
       "      <td>$140B</td>\n",
       "      <td>4/7/2017</td>\n",
       "      <td>China</td>\n",
       "      <td>Beijing</td>\n",
       "      <td>Artificial intelligence</td>\n",
       "      <td>Sequoia Capital China, SIG Asia Investments, S...</td>\n",
       "      <td>2012</td>\n",
       "      <td>Private Equity</td>\n",
       "      <td>$7.44B</td>\n",
       "    </tr>\n",
       "    <tr>\n",
       "      <th>6</th>\n",
       "      <td>Niantic</td>\n",
       "      <td>$9B</td>\n",
       "      <td>11/24/2017</td>\n",
       "      <td>United States</td>\n",
       "      <td>San Francisco</td>\n",
       "      <td>Mobile &amp; telecommunications</td>\n",
       "      <td>Nintendo, Google, Pokemon Company Internationa...</td>\n",
       "      <td>2015</td>\n",
       "      <td>Series D</td>\n",
       "      <td>$770M</td>\n",
       "    </tr>\n",
       "    <tr>\n",
       "      <th>7</th>\n",
       "      <td>OYO Rooms</td>\n",
       "      <td>$9B</td>\n",
       "      <td>9/25/2018</td>\n",
       "      <td>India</td>\n",
       "      <td>Gurugram</td>\n",
       "      <td>Travel</td>\n",
       "      <td>SoftBank Group, Sequoia Capital India,Lightspe...</td>\n",
       "      <td>2012</td>\n",
       "      <td>Secondary Market</td>\n",
       "      <td>$3.114B</td>\n",
       "    </tr>\n",
       "    <tr>\n",
       "      <th>8</th>\n",
       "      <td>Kavak</td>\n",
       "      <td>$8.7B</td>\n",
       "      <td>10/1/2020</td>\n",
       "      <td>Mexico</td>\n",
       "      <td>Lerma de Villada</td>\n",
       "      <td>E-commerce &amp; direct-to-consumer</td>\n",
       "      <td>DST Global, SoftBank Group, Mountain Nazca</td>\n",
       "      <td>2014</td>\n",
       "      <td>Line of Credit - II</td>\n",
       "      <td>$2.702B</td>\n",
       "    </tr>\n",
       "    <tr>\n",
       "      <th>9</th>\n",
       "      <td>Personio</td>\n",
       "      <td>$8.5B</td>\n",
       "      <td>1/19/2021</td>\n",
       "      <td>Germany</td>\n",
       "      <td>Munich</td>\n",
       "      <td>Internet software &amp; services</td>\n",
       "      <td>Global Founders Capital, Nortzone Ventures, Pi...</td>\n",
       "      <td>2015</td>\n",
       "      <td>Series E - II</td>\n",
       "      <td>$724.83M</td>\n",
       "    </tr>\n",
       "  </tbody>\n",
       "</table>\n",
       "</div>"
      ],
      "text/plain": [
       "        name valuation  dateJoined        country              city  \\\n",
       "0   Lacework     $8.3B    1/7/2021  United States          San Jose   \n",
       "1    Tipalti     $8.3B   10/6/2020  United States         San Mateo   \n",
       "2     Tempus     $8.1B   3/21/2018  United States           Chicago   \n",
       "3    Anduril    $8.48B   9/11/2019  United States            Irvine   \n",
       "4       Bolt     $8.4B   5/29/2018        Estonia           Tallinn   \n",
       "5  ByteDance     $140B    4/7/2017          China           Beijing   \n",
       "6    Niantic       $9B  11/24/2017  United States     San Francisco   \n",
       "7  OYO Rooms       $9B   9/25/2018          India          Gurugram   \n",
       "8      Kavak     $8.7B   10/1/2020         Mexico  Lerma de Villada   \n",
       "9   Personio     $8.5B   1/19/2021        Germany            Munich   \n",
       "\n",
       "                          industry  \\\n",
       "0                    Cybersecurity   \n",
       "1                          Fintech   \n",
       "2                           Health   \n",
       "3          Artificial intelligence   \n",
       "4            Auto & transportation   \n",
       "5          Artificial intelligence   \n",
       "6      Mobile & telecommunications   \n",
       "7                           Travel   \n",
       "8  E-commerce & direct-to-consumer   \n",
       "9     Internet software & services   \n",
       "\n",
       "                                           investors founded  \\\n",
       "0  Sutter Hill Ventures, Liberty Global Ventures,...    2015   \n",
       "1               01 Advisors, Zeev Ventures, Group 11    2010   \n",
       "2  New Enterprise Associates, T. Rowe Associates,...    2015   \n",
       "3  Andreessen Horowitz, Founders Fund, Revolution...    2017   \n",
       "4             Didi Chuxing, Diamler, TMT Investments    2013   \n",
       "5  Sequoia Capital China, SIG Asia Investments, S...    2012   \n",
       "6  Nintendo, Google, Pokemon Company Internationa...    2015   \n",
       "7  SoftBank Group, Sequoia Capital India,Lightspe...    2012   \n",
       "8         DST Global, SoftBank Group, Mountain Nazca    2014   \n",
       "9  Global Founders Capital, Nortzone Ventures, Pi...    2015   \n",
       "\n",
       "                 stage totalRaised  \n",
       "0             Series E     $1.907B  \n",
       "1             Series F       $556M  \n",
       "2    Unattributed - II     $1.345B  \n",
       "3             Series E     $2.309B  \n",
       "4             Series F     $1.971B  \n",
       "5       Private Equity      $7.44B  \n",
       "6             Series D       $770M  \n",
       "7     Secondary Market     $3.114B  \n",
       "8  Line of Credit - II     $2.702B  \n",
       "9        Series E - II    $724.83M  "
      ]
     },
     "execution_count": 6,
     "metadata": {},
     "output_type": "execute_result"
    }
   ],
   "source": [
    "cbi = pd.read_json('schemaAlignment/cbinsight.json')\n",
    "cbi.head(10)"
   ]
  },
  {
   "cell_type": "code",
   "execution_count": 8,
   "metadata": {},
   "outputs": [],
   "source": [
    "# Indicizzazione dei dati\n",
    "indexer = recordlinkage.Index()\n",
    "indexer.block('name') # Blocco sulla colonna \"name\" (blocco informazioni utilizzate per l'indicizzazione)\n",
    "pairs = indexer.index(cbi, cbi)"
   ]
  },
  {
   "cell_type": "code",
   "execution_count": 9,
   "metadata": {},
   "outputs": [
    {
     "name": "stdout",
     "output_type": "stream",
     "text": [
      "MultiIndex([(   0,    0),\n",
      "            (   1,    1),\n",
      "            (   2,    2),\n",
      "            (   3,    3),\n",
      "            (   4,    4),\n",
      "            (   4, 1145),\n",
      "            (1145,    4),\n",
      "            (1145, 1145),\n",
      "            (   5,    5),\n",
      "            (   6,    6),\n",
      "            ...\n",
      "            (1175, 1175),\n",
      "            (1176, 1176),\n",
      "            (1177, 1177),\n",
      "            (1178, 1178),\n",
      "            (1179, 1179),\n",
      "            (1180, 1180),\n",
      "            (1181, 1181),\n",
      "            (1182, 1182),\n",
      "            (1183, 1183),\n",
      "            (1184, 1184)],\n",
      "           length=1191)\n"
     ]
    }
   ],
   "source": [
    "print(pairs)"
   ]
  },
  {
   "cell_type": "code",
   "execution_count": 12,
   "metadata": {},
   "outputs": [
    {
     "data": {
      "text/plain": [
       "name                                                    Lacework\n",
       "valuation                                                  $8.3B\n",
       "dateJoined                                              1/7/2021\n",
       "country                                            United States\n",
       "city                                                    San Jose\n",
       "industry                                           Cybersecurity\n",
       "investors      Sutter Hill Ventures, Liberty Global Ventures,...\n",
       "founded                                                     2015\n",
       "stage                                                   Series E\n",
       "totalRaised                                              $1.907B\n",
       "Name: 0, dtype: object"
      ]
     },
     "execution_count": 12,
     "metadata": {},
     "output_type": "execute_result"
    }
   ],
   "source": [
    "cbi.loc[0]"
   ]
  },
  {
   "cell_type": "code",
   "execution_count": 13,
   "metadata": {},
   "outputs": [
    {
     "data": {
      "text/plain": [
       "1185"
      ]
     },
     "execution_count": 13,
     "metadata": {},
     "output_type": "execute_result"
    }
   ],
   "source": [
    "num_cbi = cbi['name']\n",
    "np.size(num_cbi)"
   ]
  },
  {
   "cell_type": "code",
   "execution_count": 10,
   "metadata": {},
   "outputs": [
    {
     "data": {
      "text/plain": [
       "1182"
      ]
     },
     "execution_count": 10,
     "metadata": {},
     "output_type": "execute_result"
    }
   ],
   "source": [
    "unique_cbi = cbi['name'].unique()\n",
    "np.size(unique_cbi)"
   ]
  },
  {
   "attachments": {},
   "cell_type": "markdown",
   "metadata": {},
   "source": [
    "### Training"
   ]
  },
  {
   "cell_type": "code",
   "execution_count": 14,
   "metadata": {},
   "outputs": [],
   "source": [
    "train_pairs = pairs[:590]\n",
    "test_pairs = pairs[590:]"
   ]
  },
  {
   "cell_type": "code",
   "execution_count": 15,
   "metadata": {},
   "outputs": [
    {
     "data": {
      "text/plain": [
       "<Compare>"
      ]
     },
     "execution_count": 15,
     "metadata": {},
     "output_type": "execute_result"
    }
   ],
   "source": [
    "# Colonne che si vogliono confrontare\n",
    "compare = recordlinkage.Compare()\n",
    "\n",
    "compare.string('name', 'name', label=\"name\", threshold=0.80)\n",
    "compare.exact('valuation', 'valuation', label='valuation')\n",
    "compare.exact('dateJoined', 'dateJoined', label='dateJoined')\n",
    "compare.string('country', 'country', method='jarowinkler', label=\"country\", threshold=0.85)\n",
    "compare.string('city', 'city', method='jarowinkler', label=\"city\", threshold=0.95)\n",
    "compare.string('industry', 'industry', method='jarowinkler', label=\"industry\", threshold=0.90)\n",
    "compare.string('investors', 'investors', method='jarowinkler', label=\"investors\", threshold=0.90)\n",
    "compare.exact('founded', 'founded', label='founded')\n",
    "compare.string('stage', 'stage', method='jarowinkler', label=\"stage\", threshold=0.95)\n",
    "compare.exact('totalRaised', 'totalRaised', label='totalRaised')"
   ]
  },
  {
   "cell_type": "code",
   "execution_count": 17,
   "metadata": {},
   "outputs": [],
   "source": [
    "# Calcolo funzioni di confronto\n",
    "training_features = compare.compute(train_pairs, cbi, cbi)\n",
    "\n",
    "# Colonna score somma i valori di confronto per ogni coppia di record\n",
    "training_features['score'] = training_features.loc[:, 'name':'totalRaised'].sum(axis=1)"
   ]
  },
  {
   "cell_type": "code",
   "execution_count": 27,
   "metadata": {},
   "outputs": [
    {
     "data": {
      "text/html": [
       "<div>\n",
       "<style scoped>\n",
       "    .dataframe tbody tr th:only-of-type {\n",
       "        vertical-align: middle;\n",
       "    }\n",
       "\n",
       "    .dataframe tbody tr th {\n",
       "        vertical-align: top;\n",
       "    }\n",
       "\n",
       "    .dataframe thead th {\n",
       "        text-align: right;\n",
       "    }\n",
       "</style>\n",
       "<table border=\"1\" class=\"dataframe\">\n",
       "  <thead>\n",
       "    <tr style=\"text-align: right;\">\n",
       "      <th></th>\n",
       "      <th>level_0</th>\n",
       "      <th>level_1</th>\n",
       "    </tr>\n",
       "  </thead>\n",
       "  <tbody>\n",
       "    <tr>\n",
       "      <th>0</th>\n",
       "      <td>0</td>\n",
       "      <td>0</td>\n",
       "    </tr>\n",
       "    <tr>\n",
       "      <th>1</th>\n",
       "      <td>1</td>\n",
       "      <td>1</td>\n",
       "    </tr>\n",
       "    <tr>\n",
       "      <th>2</th>\n",
       "      <td>2</td>\n",
       "      <td>2</td>\n",
       "    </tr>\n",
       "    <tr>\n",
       "      <th>3</th>\n",
       "      <td>3</td>\n",
       "      <td>3</td>\n",
       "    </tr>\n",
       "    <tr>\n",
       "      <th>4</th>\n",
       "      <td>4</td>\n",
       "      <td>4</td>\n",
       "    </tr>\n",
       "    <tr>\n",
       "      <th>5</th>\n",
       "      <td>4</td>\n",
       "      <td>1145</td>\n",
       "    </tr>\n",
       "    <tr>\n",
       "      <th>6</th>\n",
       "      <td>1145</td>\n",
       "      <td>4</td>\n",
       "    </tr>\n",
       "    <tr>\n",
       "      <th>7</th>\n",
       "      <td>1145</td>\n",
       "      <td>1145</td>\n",
       "    </tr>\n",
       "    <tr>\n",
       "      <th>8</th>\n",
       "      <td>5</td>\n",
       "      <td>5</td>\n",
       "    </tr>\n",
       "  </tbody>\n",
       "</table>\n",
       "</div>"
      ],
      "text/plain": [
       "   level_0  level_1\n",
       "0        0        0\n",
       "1        1        1\n",
       "2        2        2\n",
       "3        3        3\n",
       "4        4        4\n",
       "5        4     1145\n",
       "6     1145        4\n",
       "7     1145     1145\n",
       "8        5        5"
      ]
     },
     "execution_count": 27,
     "metadata": {},
     "output_type": "execute_result"
    }
   ],
   "source": [
    "# Seleziona solo le coppie di record che hanno un punteggio maggiore di 2 e reset dell'indice\n",
    "training_matches = training_features[training_features.sum(axis=1) > 2].reset_index()\n",
    "\n",
    "# Aggiornamento colonna score con la somma dei valori di confronto per ogni coppia di record selezionate\n",
    "training_matches['score'] = training_matches.loc[:, 'name':'totalRaised'].sum(axis=1)\n",
    "\n",
    "toDrop = ['name', 'dateJoined', 'valuation', 'country', 'city', 'industry', 'investors', 'founded', 'stage', 'totalRaised', 'score']\n",
    "training_matches = training_matches.drop(toDrop, axis=1)\n",
    "training_matches.head(9)"
   ]
  },
  {
   "cell_type": "code",
   "execution_count": 28,
   "metadata": {},
   "outputs": [
    {
     "data": {
      "text/html": [
       "<div>\n",
       "<style scoped>\n",
       "    .dataframe tbody tr th:only-of-type {\n",
       "        vertical-align: middle;\n",
       "    }\n",
       "\n",
       "    .dataframe tbody tr th {\n",
       "        vertical-align: top;\n",
       "    }\n",
       "\n",
       "    .dataframe thead th {\n",
       "        text-align: right;\n",
       "    }\n",
       "</style>\n",
       "<table border=\"1\" class=\"dataframe\">\n",
       "  <thead>\n",
       "    <tr style=\"text-align: right;\">\n",
       "      <th></th>\n",
       "      <th></th>\n",
       "      <th>name</th>\n",
       "      <th>valuation</th>\n",
       "      <th>dateJoined</th>\n",
       "      <th>country</th>\n",
       "      <th>city</th>\n",
       "      <th>industry</th>\n",
       "      <th>investors</th>\n",
       "      <th>founded</th>\n",
       "      <th>stage</th>\n",
       "      <th>totalRaised</th>\n",
       "      <th>score</th>\n",
       "    </tr>\n",
       "  </thead>\n",
       "  <tbody>\n",
       "    <tr>\n",
       "      <th>0</th>\n",
       "      <th>0</th>\n",
       "      <td>1.0</td>\n",
       "      <td>1</td>\n",
       "      <td>1</td>\n",
       "      <td>1.0</td>\n",
       "      <td>1.0</td>\n",
       "      <td>1.0</td>\n",
       "      <td>1.0</td>\n",
       "      <td>1</td>\n",
       "      <td>1.0</td>\n",
       "      <td>1</td>\n",
       "      <td>10.0</td>\n",
       "    </tr>\n",
       "    <tr>\n",
       "      <th>1</th>\n",
       "      <th>1</th>\n",
       "      <td>1.0</td>\n",
       "      <td>1</td>\n",
       "      <td>1</td>\n",
       "      <td>1.0</td>\n",
       "      <td>1.0</td>\n",
       "      <td>1.0</td>\n",
       "      <td>1.0</td>\n",
       "      <td>1</td>\n",
       "      <td>1.0</td>\n",
       "      <td>1</td>\n",
       "      <td>10.0</td>\n",
       "    </tr>\n",
       "    <tr>\n",
       "      <th>2</th>\n",
       "      <th>2</th>\n",
       "      <td>1.0</td>\n",
       "      <td>1</td>\n",
       "      <td>1</td>\n",
       "      <td>1.0</td>\n",
       "      <td>1.0</td>\n",
       "      <td>1.0</td>\n",
       "      <td>1.0</td>\n",
       "      <td>1</td>\n",
       "      <td>1.0</td>\n",
       "      <td>1</td>\n",
       "      <td>10.0</td>\n",
       "    </tr>\n",
       "    <tr>\n",
       "      <th>3</th>\n",
       "      <th>3</th>\n",
       "      <td>1.0</td>\n",
       "      <td>1</td>\n",
       "      <td>1</td>\n",
       "      <td>1.0</td>\n",
       "      <td>1.0</td>\n",
       "      <td>1.0</td>\n",
       "      <td>1.0</td>\n",
       "      <td>1</td>\n",
       "      <td>1.0</td>\n",
       "      <td>1</td>\n",
       "      <td>10.0</td>\n",
       "    </tr>\n",
       "    <tr>\n",
       "      <th>4</th>\n",
       "      <th>4</th>\n",
       "      <td>1.0</td>\n",
       "      <td>1</td>\n",
       "      <td>1</td>\n",
       "      <td>1.0</td>\n",
       "      <td>1.0</td>\n",
       "      <td>1.0</td>\n",
       "      <td>1.0</td>\n",
       "      <td>1</td>\n",
       "      <td>1.0</td>\n",
       "      <td>1</td>\n",
       "      <td>10.0</td>\n",
       "    </tr>\n",
       "  </tbody>\n",
       "</table>\n",
       "</div>"
      ],
      "text/plain": [
       "     name  valuation  dateJoined  country  city  industry  investors  founded  \\\n",
       "0 0   1.0          1           1      1.0   1.0       1.0        1.0        1   \n",
       "1 1   1.0          1           1      1.0   1.0       1.0        1.0        1   \n",
       "2 2   1.0          1           1      1.0   1.0       1.0        1.0        1   \n",
       "3 3   1.0          1           1      1.0   1.0       1.0        1.0        1   \n",
       "4 4   1.0          1           1      1.0   1.0       1.0        1.0        1   \n",
       "\n",
       "     stage  totalRaised  score  \n",
       "0 0    1.0            1   10.0  \n",
       "1 1    1.0            1   10.0  \n",
       "2 2    1.0            1   10.0  \n",
       "3 3    1.0            1   10.0  \n",
       "4 4    1.0            1   10.0  "
      ]
     },
     "execution_count": 28,
     "metadata": {},
     "output_type": "execute_result"
    }
   ],
   "source": [
    "training_matches = pd.MultiIndex.from_frame(training_matches) #matches conversion\n",
    "training_features.head()"
   ]
  },
  {
   "cell_type": "code",
   "execution_count": 29,
   "metadata": {},
   "outputs": [
    {
     "data": {
      "text/plain": [
       "590"
      ]
     },
     "execution_count": 29,
     "metadata": {},
     "output_type": "execute_result"
    }
   ],
   "source": [
    "len(training_features)"
   ]
  },
  {
   "cell_type": "code",
   "execution_count": 30,
   "metadata": {},
   "outputs": [
    {
     "data": {
      "text/plain": [
       "590"
      ]
     },
     "execution_count": 30,
     "metadata": {},
     "output_type": "execute_result"
    }
   ],
   "source": [
    "len(training_matches)"
   ]
  },
  {
   "cell_type": "code",
   "execution_count": 31,
   "metadata": {},
   "outputs": [],
   "source": [
    "classifier = recordlinkage.NaiveBayesClassifier()\n",
    "classifier.fit(training_features, training_matches)"
   ]
  },
  {
   "attachments": {},
   "cell_type": "markdown",
   "metadata": {},
   "source": [
    "### Test "
   ]
  },
  {
   "cell_type": "code",
   "execution_count": 32,
   "metadata": {},
   "outputs": [
    {
     "data": {
      "text/plain": [
       "<Compare>"
      ]
     },
     "execution_count": 32,
     "metadata": {},
     "output_type": "execute_result"
    }
   ],
   "source": [
    "# Colonne che si vogliono confrontare\n",
    "compare = recordlinkage.Compare()\n",
    "\n",
    "compare.string('name', 'name', label=\"name\", threshold=0.80)\n",
    "compare.exact('valuation', 'valuation', label='valuation')\n",
    "compare.exact('dateJoined', 'dateJoined', label='dateJoined')\n",
    "compare.string('country', 'country', method='jarowinkler', label=\"country\", threshold=0.85)\n",
    "compare.string('city', 'city', method='jarowinkler', label=\"city\", threshold=0.95)\n",
    "compare.string('industry', 'industry', method='jarowinkler', label=\"industry\", threshold=0.90)\n",
    "compare.string('investors', 'investors', method='jarowinkler', label=\"investors\", threshold=0.90)\n",
    "compare.exact('founded', 'founded', label='founded')\n",
    "compare.string('stage', 'stage', method='jarowinkler', label=\"stage\", threshold=0.95)\n",
    "compare.exact('totalRaised', 'totalRaised', label='totalRaised')"
   ]
  },
  {
   "cell_type": "code",
   "execution_count": 33,
   "metadata": {},
   "outputs": [],
   "source": [
    "# Calcolo funzioni di confronto\n",
    "test_features = compare.compute(test_pairs, cbi, cbi)\n",
    "\n",
    "# Colonna score somma i valori di confronto per ogni coppia di record\n",
    "test_features['score'] = test_features.loc[:, 'name':'totalRaised'].sum(axis=1)"
   ]
  },
  {
   "cell_type": "code",
   "execution_count": 34,
   "metadata": {},
   "outputs": [
    {
     "data": {
      "text/html": [
       "<div>\n",
       "<style scoped>\n",
       "    .dataframe tbody tr th:only-of-type {\n",
       "        vertical-align: middle;\n",
       "    }\n",
       "\n",
       "    .dataframe tbody tr th {\n",
       "        vertical-align: top;\n",
       "    }\n",
       "\n",
       "    .dataframe thead th {\n",
       "        text-align: right;\n",
       "    }\n",
       "</style>\n",
       "<table border=\"1\" class=\"dataframe\">\n",
       "  <thead>\n",
       "    <tr style=\"text-align: right;\">\n",
       "      <th></th>\n",
       "      <th>level_0</th>\n",
       "      <th>level_1</th>\n",
       "    </tr>\n",
       "  </thead>\n",
       "  <tbody>\n",
       "    <tr>\n",
       "      <th>0</th>\n",
       "      <td>582</td>\n",
       "      <td>582</td>\n",
       "    </tr>\n",
       "    <tr>\n",
       "      <th>1</th>\n",
       "      <td>583</td>\n",
       "      <td>583</td>\n",
       "    </tr>\n",
       "    <tr>\n",
       "      <th>2</th>\n",
       "      <td>584</td>\n",
       "      <td>584</td>\n",
       "    </tr>\n",
       "    <tr>\n",
       "      <th>3</th>\n",
       "      <td>585</td>\n",
       "      <td>585</td>\n",
       "    </tr>\n",
       "    <tr>\n",
       "      <th>4</th>\n",
       "      <td>586</td>\n",
       "      <td>586</td>\n",
       "    </tr>\n",
       "    <tr>\n",
       "      <th>5</th>\n",
       "      <td>587</td>\n",
       "      <td>587</td>\n",
       "    </tr>\n",
       "    <tr>\n",
       "      <th>6</th>\n",
       "      <td>588</td>\n",
       "      <td>588</td>\n",
       "    </tr>\n",
       "    <tr>\n",
       "      <th>7</th>\n",
       "      <td>589</td>\n",
       "      <td>589</td>\n",
       "    </tr>\n",
       "    <tr>\n",
       "      <th>8</th>\n",
       "      <td>590</td>\n",
       "      <td>590</td>\n",
       "    </tr>\n",
       "  </tbody>\n",
       "</table>\n",
       "</div>"
      ],
      "text/plain": [
       "   level_0  level_1\n",
       "0      582      582\n",
       "1      583      583\n",
       "2      584      584\n",
       "3      585      585\n",
       "4      586      586\n",
       "5      587      587\n",
       "6      588      588\n",
       "7      589      589\n",
       "8      590      590"
      ]
     },
     "execution_count": 34,
     "metadata": {},
     "output_type": "execute_result"
    }
   ],
   "source": [
    "# Seleziona solo le coppie di record che hanno un punteggio maggiore di 2 e reset dell'indice\n",
    "test_matches = test_features[test_features.sum(axis=1) > 2].reset_index()\n",
    "\n",
    "# Aggiornamento colonna score con la somma dei valori di confronto per ogni coppia di record selezionate\n",
    "test_matches['score'] = test_matches.loc[:, 'name':'totalRaised'].sum(axis=1)\n",
    "\n",
    "toDrop = ['name', 'dateJoined', 'valuation', 'country', 'city', 'industry', 'investors', 'founded', 'stage', 'totalRaised', 'score']\n",
    "test_matches = test_matches.drop(toDrop, axis=1)\n",
    "test_matches.head(9)"
   ]
  },
  {
   "cell_type": "code",
   "execution_count": 35,
   "metadata": {},
   "outputs": [
    {
     "data": {
      "text/plain": [
       "601"
      ]
     },
     "execution_count": 35,
     "metadata": {},
     "output_type": "execute_result"
    }
   ],
   "source": [
    "len(test_features)"
   ]
  },
  {
   "cell_type": "code",
   "execution_count": 36,
   "metadata": {},
   "outputs": [
    {
     "data": {
      "text/plain": [
       "601"
      ]
     },
     "execution_count": 36,
     "metadata": {},
     "output_type": "execute_result"
    }
   ],
   "source": [
    "len(test_matches)"
   ]
  },
  {
   "cell_type": "code",
   "execution_count": 37,
   "metadata": {},
   "outputs": [
    {
     "data": {
      "text/html": [
       "<div>\n",
       "<style scoped>\n",
       "    .dataframe tbody tr th:only-of-type {\n",
       "        vertical-align: middle;\n",
       "    }\n",
       "\n",
       "    .dataframe tbody tr th {\n",
       "        vertical-align: top;\n",
       "    }\n",
       "\n",
       "    .dataframe thead th {\n",
       "        text-align: right;\n",
       "    }\n",
       "</style>\n",
       "<table border=\"1\" class=\"dataframe\">\n",
       "  <thead>\n",
       "    <tr style=\"text-align: right;\">\n",
       "      <th></th>\n",
       "      <th>level_0</th>\n",
       "      <th>level_1</th>\n",
       "    </tr>\n",
       "  </thead>\n",
       "  <tbody>\n",
       "    <tr>\n",
       "      <th>0</th>\n",
       "      <td>582</td>\n",
       "      <td>582</td>\n",
       "    </tr>\n",
       "    <tr>\n",
       "      <th>1</th>\n",
       "      <td>583</td>\n",
       "      <td>583</td>\n",
       "    </tr>\n",
       "    <tr>\n",
       "      <th>2</th>\n",
       "      <td>584</td>\n",
       "      <td>584</td>\n",
       "    </tr>\n",
       "    <tr>\n",
       "      <th>3</th>\n",
       "      <td>585</td>\n",
       "      <td>585</td>\n",
       "    </tr>\n",
       "    <tr>\n",
       "      <th>4</th>\n",
       "      <td>586</td>\n",
       "      <td>586</td>\n",
       "    </tr>\n",
       "    <tr>\n",
       "      <th>...</th>\n",
       "      <td>...</td>\n",
       "      <td>...</td>\n",
       "    </tr>\n",
       "    <tr>\n",
       "      <th>596</th>\n",
       "      <td>1180</td>\n",
       "      <td>1180</td>\n",
       "    </tr>\n",
       "    <tr>\n",
       "      <th>597</th>\n",
       "      <td>1181</td>\n",
       "      <td>1181</td>\n",
       "    </tr>\n",
       "    <tr>\n",
       "      <th>598</th>\n",
       "      <td>1182</td>\n",
       "      <td>1182</td>\n",
       "    </tr>\n",
       "    <tr>\n",
       "      <th>599</th>\n",
       "      <td>1183</td>\n",
       "      <td>1183</td>\n",
       "    </tr>\n",
       "    <tr>\n",
       "      <th>600</th>\n",
       "      <td>1184</td>\n",
       "      <td>1184</td>\n",
       "    </tr>\n",
       "  </tbody>\n",
       "</table>\n",
       "<p>601 rows × 2 columns</p>\n",
       "</div>"
      ],
      "text/plain": [
       "     level_0  level_1\n",
       "0        582      582\n",
       "1        583      583\n",
       "2        584      584\n",
       "3        585      585\n",
       "4        586      586\n",
       "..       ...      ...\n",
       "596     1180     1180\n",
       "597     1181     1181\n",
       "598     1182     1182\n",
       "599     1183     1183\n",
       "600     1184     1184\n",
       "\n",
       "[601 rows x 2 columns]"
      ]
     },
     "execution_count": 37,
     "metadata": {},
     "output_type": "execute_result"
    }
   ],
   "source": [
    "test_matches"
   ]
  },
  {
   "cell_type": "code",
   "execution_count": 38,
   "metadata": {},
   "outputs": [],
   "source": [
    "test_matches = pd.MultiIndex.from_frame(test_matches) #matches conversion"
   ]
  },
  {
   "cell_type": "code",
   "execution_count": 39,
   "metadata": {},
   "outputs": [],
   "source": [
    "predictions = classifier.predict(test_features)"
   ]
  },
  {
   "attachments": {},
   "cell_type": "markdown",
   "metadata": {},
   "source": [
    "### Evaluation"
   ]
  },
  {
   "cell_type": "code",
   "execution_count": 40,
   "metadata": {},
   "outputs": [
    {
     "name": "stdout",
     "output_type": "stream",
     "text": [
      "confusion matrix\n",
      "[[601   0]\n",
      " [  0   0]]\n",
      "\n",
      "\n",
      "fscore 1.0\n",
      "recall 1.0\n",
      "precision 1.0\n",
      "accuracy 1.0\n"
     ]
    }
   ],
   "source": [
    "# return the confusion matrix\n",
    "confusion_matrix = recordlinkage.confusion_matrix(test_matches, predictions, len(test_features))\n",
    "print('confusion matrix')\n",
    "print(confusion_matrix)\n",
    "\n",
    "# compute the F-score for this classification\n",
    "fscore = recordlinkage.fscore(confusion_matrix)\n",
    "print('\\n\\nfscore', fscore)\n",
    "recall = recordlinkage.recall(test_matches, predictions)\n",
    "print('recall', recall)\n",
    "precision = recordlinkage.precision(test_matches, predictions)\n",
    "print('precision', precision)\n",
    "accuracy = recordlinkage.accuracy(test_matches, predictions, len(test_features))\n",
    "print('accuracy', accuracy)"
   ]
  },
  {
   "cell_type": "code",
   "execution_count": 41,
   "metadata": {},
   "outputs": [
    {
     "name": "stdout",
     "output_type": "stream",
     "text": [
      "601\n"
     ]
    }
   ],
   "source": [
    "print(len(predictions))"
   ]
  },
  {
   "cell_type": "code",
   "execution_count": 42,
   "metadata": {},
   "outputs": [
    {
     "data": {
      "text/plain": [
       "MultiIndex([], )"
      ]
     },
     "execution_count": 42,
     "metadata": {},
     "output_type": "execute_result"
    }
   ],
   "source": [
    "false_negatives = test_matches.difference(predictions)\n",
    "false_negatives"
   ]
  },
  {
   "cell_type": "code",
   "execution_count": 43,
   "metadata": {},
   "outputs": [
    {
     "name": "stdout",
     "output_type": "stream",
     "text": [
      "No False Negatives Present\n"
     ]
    }
   ],
   "source": [
    "try:\n",
    "    fn_from_dfA = false_negatives[0][0]\n",
    "    fn_from_dfB = false_negatives[0][1]\n",
    "\n",
    "    display(cbi[cbi.index == fn_from_dfA])\n",
    "    display(cbi[cbi.index == fn_from_dfB])\n",
    "except:\n",
    "    print(\"No False Negatives Present\")"
   ]
  }
 ],
 "metadata": {
  "kernelspec": {
   "display_name": "Python 3",
   "language": "python",
   "name": "python3"
  },
  "language_info": {
   "codemirror_mode": {
    "name": "ipython",
    "version": 3
   },
   "file_extension": ".py",
   "mimetype": "text/x-python",
   "name": "python",
   "nbconvert_exporter": "python",
   "pygments_lexer": "ipython3",
   "version": "3.8.8"
  },
  "orig_nbformat": 4,
  "vscode": {
   "interpreter": {
    "hash": "0276ff69500abe2d91ba632e055fcb377451e51e6d19b9e80dff5426d1d4a679"
   }
  }
 },
 "nbformat": 4,
 "nbformat_minor": 2
}
