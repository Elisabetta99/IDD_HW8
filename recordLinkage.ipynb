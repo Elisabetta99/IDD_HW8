{
 "cells": [
  {
   "attachments": {},
   "cell_type": "markdown",
   "metadata": {},
   "source": [
    "## Record Linkage del dataset"
   ]
  },
  {
   "cell_type": "code",
   "execution_count": 10,
   "metadata": {},
   "outputs": [],
   "source": [
    "import pandas as pd\n",
    "import numpy as np\n",
    "\n",
    "import recordlinkage\n",
    "import warnings\n",
    "from recordlinkage.index import Full\n",
    "\n",
    "warnings.filterwarnings('ignore')"
   ]
  },
  {
   "cell_type": "code",
   "execution_count": 11,
   "metadata": {},
   "outputs": [
    {
     "data": {
      "text/html": [
       "<div>\n",
       "<style scoped>\n",
       "    .dataframe tbody tr th:only-of-type {\n",
       "        vertical-align: middle;\n",
       "    }\n",
       "\n",
       "    .dataframe tbody tr th {\n",
       "        vertical-align: top;\n",
       "    }\n",
       "\n",
       "    .dataframe thead th {\n",
       "        text-align: right;\n",
       "    }\n",
       "</style>\n",
       "<table border=\"1\" class=\"dataframe\">\n",
       "  <thead>\n",
       "    <tr style=\"text-align: right;\">\n",
       "      <th></th>\n",
       "      <th>Unnamed: 0</th>\n",
       "      <th>name</th>\n",
       "      <th>company_website</th>\n",
       "      <th>country</th>\n",
       "      <th>number_of_employees</th>\n",
       "      <th>industry</th>\n",
       "      <th>founded_year</th>\n",
       "      <th>market_cap</th>\n",
       "      <th>revenue</th>\n",
       "      <th>rank</th>\n",
       "      <th>sector</th>\n",
       "      <th>city</th>\n",
       "      <th>valuation</th>\n",
       "      <th>stock</th>\n",
       "      <th>ceo</th>\n",
       "      <th>market_value</th>\n",
       "    </tr>\n",
       "  </thead>\n",
       "  <tbody>\n",
       "    <tr>\n",
       "      <th>0</th>\n",
       "      <td>0</td>\n",
       "      <td>Proteus Digital Health Careers</td>\n",
       "      <td>www.proteus.com</td>\n",
       "      <td>Redwood City, CA</td>\n",
       "      <td>201 to 500 employees</td>\n",
       "      <td>Pharmaceuticals</td>\n",
       "      <td>2004</td>\n",
       "      <td>NaN</td>\n",
       "      <td>NaN</td>\n",
       "      <td>NaN</td>\n",
       "      <td>NaN</td>\n",
       "      <td>NaN</td>\n",
       "      <td>NaN</td>\n",
       "      <td>NaN</td>\n",
       "      <td>NaN</td>\n",
       "      <td>NaN</td>\n",
       "    </tr>\n",
       "    <tr>\n",
       "      <th>1</th>\n",
       "      <td>1</td>\n",
       "      <td>Zelis Careers</td>\n",
       "      <td>www.zelis.com</td>\n",
       "      <td>Bedminster, NJ</td>\n",
       "      <td>1,001 to 5,000 employees</td>\n",
       "      <td>Information Technology &amp; Services</td>\n",
       "      <td>2016</td>\n",
       "      <td>NaN</td>\n",
       "      <td>NaN</td>\n",
       "      <td>NaN</td>\n",
       "      <td>NaN</td>\n",
       "      <td>NaN</td>\n",
       "      <td>NaN</td>\n",
       "      <td>NaN</td>\n",
       "      <td>NaN</td>\n",
       "      <td>NaN</td>\n",
       "    </tr>\n",
       "    <tr>\n",
       "      <th>2</th>\n",
       "      <td>2</td>\n",
       "      <td>UpNest Careers</td>\n",
       "      <td>www.upnest.com</td>\n",
       "      <td>Burlingame, CA</td>\n",
       "      <td>1 to 50 employees</td>\n",
       "      <td>Real Estate</td>\n",
       "      <td>2013</td>\n",
       "      <td>NaN</td>\n",
       "      <td>NaN</td>\n",
       "      <td>NaN</td>\n",
       "      <td>NaN</td>\n",
       "      <td>NaN</td>\n",
       "      <td>NaN</td>\n",
       "      <td>NaN</td>\n",
       "      <td>NaN</td>\n",
       "      <td>NaN</td>\n",
       "    </tr>\n",
       "    <tr>\n",
       "      <th>3</th>\n",
       "      <td>3</td>\n",
       "      <td>conferacity Careers</td>\n",
       "      <td>conferacity.com</td>\n",
       "      <td>Menlo Park, CA</td>\n",
       "      <td>1 to 50 employees</td>\n",
       "      <td>Broadcast &amp; Online Media</td>\n",
       "      <td>2013</td>\n",
       "      <td>NaN</td>\n",
       "      <td>NaN</td>\n",
       "      <td>NaN</td>\n",
       "      <td>NaN</td>\n",
       "      <td>NaN</td>\n",
       "      <td>NaN</td>\n",
       "      <td>NaN</td>\n",
       "      <td>NaN</td>\n",
       "      <td>NaN</td>\n",
       "    </tr>\n",
       "    <tr>\n",
       "      <th>4</th>\n",
       "      <td>4</td>\n",
       "      <td>Zenoti Careers</td>\n",
       "      <td>www.zenoti.com</td>\n",
       "      <td>Bellevue, WA</td>\n",
       "      <td>501 to 1,000 employees</td>\n",
       "      <td>Computer Software</td>\n",
       "      <td>2010</td>\n",
       "      <td>NaN</td>\n",
       "      <td>NaN</td>\n",
       "      <td>NaN</td>\n",
       "      <td>NaN</td>\n",
       "      <td>NaN</td>\n",
       "      <td>NaN</td>\n",
       "      <td>NaN</td>\n",
       "      <td>NaN</td>\n",
       "      <td>NaN</td>\n",
       "    </tr>\n",
       "    <tr>\n",
       "      <th>...</th>\n",
       "      <td>...</td>\n",
       "      <td>...</td>\n",
       "      <td>...</td>\n",
       "      <td>...</td>\n",
       "      <td>...</td>\n",
       "      <td>...</td>\n",
       "      <td>...</td>\n",
       "      <td>...</td>\n",
       "      <td>...</td>\n",
       "      <td>...</td>\n",
       "      <td>...</td>\n",
       "      <td>...</td>\n",
       "      <td>...</td>\n",
       "      <td>...</td>\n",
       "      <td>...</td>\n",
       "      <td>...</td>\n",
       "    </tr>\n",
       "    <tr>\n",
       "      <th>120254</th>\n",
       "      <td>120254</td>\n",
       "      <td>Wayne's Coffee</td>\n",
       "      <td>NaN</td>\n",
       "      <td>NaN</td>\n",
       "      <td>NaN</td>\n",
       "      <td>Consumer services</td>\n",
       "      <td>NaN</td>\n",
       "      <td>NaN</td>\n",
       "      <td>NaN</td>\n",
       "      <td>NaN</td>\n",
       "      <td>Restaurants &amp; bars</td>\n",
       "      <td>NaN</td>\n",
       "      <td>NaN</td>\n",
       "      <td>NaN</td>\n",
       "      <td>NaN</td>\n",
       "      <td>NaN</td>\n",
       "    </tr>\n",
       "    <tr>\n",
       "      <th>120255</th>\n",
       "      <td>120255</td>\n",
       "      <td>WESC</td>\n",
       "      <td>NaN</td>\n",
       "      <td>NaN</td>\n",
       "      <td>NaN</td>\n",
       "      <td>Consumer goods</td>\n",
       "      <td>NaN</td>\n",
       "      <td>NaN</td>\n",
       "      <td>NaN</td>\n",
       "      <td>NaN</td>\n",
       "      <td>Clothing &amp; accessories</td>\n",
       "      <td>NaN</td>\n",
       "      <td>NaN</td>\n",
       "      <td>NaN</td>\n",
       "      <td>NaN</td>\n",
       "      <td>NaN</td>\n",
       "    </tr>\n",
       "    <tr>\n",
       "      <th>120256</th>\n",
       "      <td>120256</td>\n",
       "      <td>WG Film</td>\n",
       "      <td>NaN</td>\n",
       "      <td>NaN</td>\n",
       "      <td>NaN</td>\n",
       "      <td>Consumer services</td>\n",
       "      <td>NaN</td>\n",
       "      <td>NaN</td>\n",
       "      <td>NaN</td>\n",
       "      <td>NaN</td>\n",
       "      <td>Broadcasting &amp; entertainment</td>\n",
       "      <td>NaN</td>\n",
       "      <td>NaN</td>\n",
       "      <td>NaN</td>\n",
       "      <td>NaN</td>\n",
       "      <td>NaN</td>\n",
       "    </tr>\n",
       "    <tr>\n",
       "      <th>120257</th>\n",
       "      <td>120257</td>\n",
       "      <td>WM-data</td>\n",
       "      <td>NaN</td>\n",
       "      <td>NaN</td>\n",
       "      <td>NaN</td>\n",
       "      <td>Technology</td>\n",
       "      <td>NaN</td>\n",
       "      <td>NaN</td>\n",
       "      <td>NaN</td>\n",
       "      <td>NaN</td>\n",
       "      <td>Software</td>\n",
       "      <td>NaN</td>\n",
       "      <td>NaN</td>\n",
       "      <td>NaN</td>\n",
       "      <td>NaN</td>\n",
       "      <td>NaN</td>\n",
       "    </tr>\n",
       "    <tr>\n",
       "      <th>120258</th>\n",
       "      <td>120258</td>\n",
       "      <td>X5 Music Group</td>\n",
       "      <td>NaN</td>\n",
       "      <td>NaN</td>\n",
       "      <td>NaN</td>\n",
       "      <td>Consumer services</td>\n",
       "      <td>NaN</td>\n",
       "      <td>NaN</td>\n",
       "      <td>NaN</td>\n",
       "      <td>NaN</td>\n",
       "      <td>Broadcasting &amp; entertainment</td>\n",
       "      <td>NaN</td>\n",
       "      <td>NaN</td>\n",
       "      <td>NaN</td>\n",
       "      <td>NaN</td>\n",
       "      <td>NaN</td>\n",
       "    </tr>\n",
       "  </tbody>\n",
       "</table>\n",
       "<p>120259 rows × 16 columns</p>\n",
       "</div>"
      ],
      "text/plain": [
       "        Unnamed: 0                            name  company_website  \\\n",
       "0                0  Proteus Digital Health Careers  www.proteus.com   \n",
       "1                1                   Zelis Careers    www.zelis.com   \n",
       "2                2                  UpNest Careers   www.upnest.com   \n",
       "3                3             conferacity Careers  conferacity.com   \n",
       "4                4                  Zenoti Careers   www.zenoti.com   \n",
       "...            ...                             ...              ...   \n",
       "120254      120254                  Wayne's Coffee              NaN   \n",
       "120255      120255                            WESC              NaN   \n",
       "120256      120256                         WG Film              NaN   \n",
       "120257      120257                         WM-data              NaN   \n",
       "120258      120258                  X5 Music Group              NaN   \n",
       "\n",
       "                 country       number_of_employees  \\\n",
       "0       Redwood City, CA      201 to 500 employees   \n",
       "1         Bedminster, NJ  1,001 to 5,000 employees   \n",
       "2         Burlingame, CA         1 to 50 employees   \n",
       "3         Menlo Park, CA         1 to 50 employees   \n",
       "4           Bellevue, WA    501 to 1,000 employees   \n",
       "...                  ...                       ...   \n",
       "120254               NaN                       NaN   \n",
       "120255               NaN                       NaN   \n",
       "120256               NaN                       NaN   \n",
       "120257               NaN                       NaN   \n",
       "120258               NaN                       NaN   \n",
       "\n",
       "                                 industry founded_year market_cap revenue  \\\n",
       "0                         Pharmaceuticals         2004        NaN     NaN   \n",
       "1       Information Technology & Services         2016        NaN     NaN   \n",
       "2                             Real Estate         2013        NaN     NaN   \n",
       "3                Broadcast & Online Media         2013        NaN     NaN   \n",
       "4                       Computer Software         2010        NaN     NaN   \n",
       "...                                   ...          ...        ...     ...   \n",
       "120254                  Consumer services          NaN        NaN     NaN   \n",
       "120255                     Consumer goods          NaN        NaN     NaN   \n",
       "120256                  Consumer services          NaN        NaN     NaN   \n",
       "120257                         Technology          NaN        NaN     NaN   \n",
       "120258                  Consumer services          NaN        NaN     NaN   \n",
       "\n",
       "       rank                        sector city valuation stock  ceo  \\\n",
       "0       NaN                           NaN  NaN       NaN   NaN  NaN   \n",
       "1       NaN                           NaN  NaN       NaN   NaN  NaN   \n",
       "2       NaN                           NaN  NaN       NaN   NaN  NaN   \n",
       "3       NaN                           NaN  NaN       NaN   NaN  NaN   \n",
       "4       NaN                           NaN  NaN       NaN   NaN  NaN   \n",
       "...     ...                           ...  ...       ...   ...  ...   \n",
       "120254  NaN            Restaurants & bars  NaN       NaN   NaN  NaN   \n",
       "120255  NaN        Clothing & accessories  NaN       NaN   NaN  NaN   \n",
       "120256  NaN  Broadcasting & entertainment  NaN       NaN   NaN  NaN   \n",
       "120257  NaN                      Software  NaN       NaN   NaN  NaN   \n",
       "120258  NaN  Broadcasting & entertainment  NaN       NaN   NaN  NaN   \n",
       "\n",
       "       market_value  \n",
       "0               NaN  \n",
       "1               NaN  \n",
       "2               NaN  \n",
       "3               NaN  \n",
       "4               NaN  \n",
       "...             ...  \n",
       "120254          NaN  \n",
       "120255          NaN  \n",
       "120256          NaN  \n",
       "120257          NaN  \n",
       "120258          NaN  \n",
       "\n",
       "[120259 rows x 16 columns]"
      ]
     },
     "execution_count": 11,
     "metadata": {},
     "output_type": "execute_result"
    }
   ],
   "source": [
    "companies = pd.read_csv('schemaAlignment/aziende_merged_finale.csv')\n",
    "companies"
   ]
  },
  {
   "cell_type": "code",
   "execution_count": 12,
   "metadata": {},
   "outputs": [
    {
     "data": {
      "text/html": [
       "<div>\n",
       "<style scoped>\n",
       "    .dataframe tbody tr th:only-of-type {\n",
       "        vertical-align: middle;\n",
       "    }\n",
       "\n",
       "    .dataframe tbody tr th {\n",
       "        vertical-align: top;\n",
       "    }\n",
       "\n",
       "    .dataframe thead th {\n",
       "        text-align: right;\n",
       "    }\n",
       "</style>\n",
       "<table border=\"1\" class=\"dataframe\">\n",
       "  <thead>\n",
       "    <tr style=\"text-align: right;\">\n",
       "      <th></th>\n",
       "      <th>name</th>\n",
       "      <th>company_website</th>\n",
       "      <th>country</th>\n",
       "      <th>number_of_employees</th>\n",
       "      <th>industry</th>\n",
       "      <th>founded_year</th>\n",
       "      <th>market_cap</th>\n",
       "      <th>revenue</th>\n",
       "      <th>rank</th>\n",
       "      <th>sector</th>\n",
       "      <th>city</th>\n",
       "      <th>valuation</th>\n",
       "      <th>stock</th>\n",
       "      <th>ceo</th>\n",
       "      <th>market_value</th>\n",
       "    </tr>\n",
       "  </thead>\n",
       "  <tbody>\n",
       "    <tr>\n",
       "      <th>0</th>\n",
       "      <td>Proteus Digital Health Careers</td>\n",
       "      <td>www.proteus.com</td>\n",
       "      <td>Redwood City, CA</td>\n",
       "      <td>201 to 500 employees</td>\n",
       "      <td>Pharmaceuticals</td>\n",
       "      <td>2004</td>\n",
       "      <td>NaN</td>\n",
       "      <td>NaN</td>\n",
       "      <td>NaN</td>\n",
       "      <td>NaN</td>\n",
       "      <td>NaN</td>\n",
       "      <td>NaN</td>\n",
       "      <td>NaN</td>\n",
       "      <td>NaN</td>\n",
       "      <td>NaN</td>\n",
       "    </tr>\n",
       "    <tr>\n",
       "      <th>1</th>\n",
       "      <td>Zelis Careers</td>\n",
       "      <td>www.zelis.com</td>\n",
       "      <td>Bedminster, NJ</td>\n",
       "      <td>1,001 to 5,000 employees</td>\n",
       "      <td>Information Technology &amp; Services</td>\n",
       "      <td>2016</td>\n",
       "      <td>NaN</td>\n",
       "      <td>NaN</td>\n",
       "      <td>NaN</td>\n",
       "      <td>NaN</td>\n",
       "      <td>NaN</td>\n",
       "      <td>NaN</td>\n",
       "      <td>NaN</td>\n",
       "      <td>NaN</td>\n",
       "      <td>NaN</td>\n",
       "    </tr>\n",
       "    <tr>\n",
       "      <th>2</th>\n",
       "      <td>UpNest Careers</td>\n",
       "      <td>www.upnest.com</td>\n",
       "      <td>Burlingame, CA</td>\n",
       "      <td>1 to 50 employees</td>\n",
       "      <td>Real Estate</td>\n",
       "      <td>2013</td>\n",
       "      <td>NaN</td>\n",
       "      <td>NaN</td>\n",
       "      <td>NaN</td>\n",
       "      <td>NaN</td>\n",
       "      <td>NaN</td>\n",
       "      <td>NaN</td>\n",
       "      <td>NaN</td>\n",
       "      <td>NaN</td>\n",
       "      <td>NaN</td>\n",
       "    </tr>\n",
       "    <tr>\n",
       "      <th>3</th>\n",
       "      <td>conferacity Careers</td>\n",
       "      <td>conferacity.com</td>\n",
       "      <td>Menlo Park, CA</td>\n",
       "      <td>1 to 50 employees</td>\n",
       "      <td>Broadcast &amp; Online Media</td>\n",
       "      <td>2013</td>\n",
       "      <td>NaN</td>\n",
       "      <td>NaN</td>\n",
       "      <td>NaN</td>\n",
       "      <td>NaN</td>\n",
       "      <td>NaN</td>\n",
       "      <td>NaN</td>\n",
       "      <td>NaN</td>\n",
       "      <td>NaN</td>\n",
       "      <td>NaN</td>\n",
       "    </tr>\n",
       "    <tr>\n",
       "      <th>4</th>\n",
       "      <td>Zenoti Careers</td>\n",
       "      <td>www.zenoti.com</td>\n",
       "      <td>Bellevue, WA</td>\n",
       "      <td>501 to 1,000 employees</td>\n",
       "      <td>Computer Software</td>\n",
       "      <td>2010</td>\n",
       "      <td>NaN</td>\n",
       "      <td>NaN</td>\n",
       "      <td>NaN</td>\n",
       "      <td>NaN</td>\n",
       "      <td>NaN</td>\n",
       "      <td>NaN</td>\n",
       "      <td>NaN</td>\n",
       "      <td>NaN</td>\n",
       "      <td>NaN</td>\n",
       "    </tr>\n",
       "  </tbody>\n",
       "</table>\n",
       "</div>"
      ],
      "text/plain": [
       "                             name  company_website           country  \\\n",
       "0  Proteus Digital Health Careers  www.proteus.com  Redwood City, CA   \n",
       "1                   Zelis Careers    www.zelis.com    Bedminster, NJ   \n",
       "2                  UpNest Careers   www.upnest.com    Burlingame, CA   \n",
       "3             conferacity Careers  conferacity.com    Menlo Park, CA   \n",
       "4                  Zenoti Careers   www.zenoti.com      Bellevue, WA   \n",
       "\n",
       "        number_of_employees                           industry founded_year  \\\n",
       "0      201 to 500 employees                    Pharmaceuticals         2004   \n",
       "1  1,001 to 5,000 employees  Information Technology & Services         2016   \n",
       "2         1 to 50 employees                        Real Estate         2013   \n",
       "3         1 to 50 employees           Broadcast & Online Media         2013   \n",
       "4    501 to 1,000 employees                  Computer Software         2010   \n",
       "\n",
       "  market_cap revenue rank sector city valuation stock  ceo market_value  \n",
       "0        NaN     NaN  NaN    NaN  NaN       NaN   NaN  NaN          NaN  \n",
       "1        NaN     NaN  NaN    NaN  NaN       NaN   NaN  NaN          NaN  \n",
       "2        NaN     NaN  NaN    NaN  NaN       NaN   NaN  NaN          NaN  \n",
       "3        NaN     NaN  NaN    NaN  NaN       NaN   NaN  NaN          NaN  \n",
       "4        NaN     NaN  NaN    NaN  NaN       NaN   NaN  NaN          NaN  "
      ]
     },
     "execution_count": 12,
     "metadata": {},
     "output_type": "execute_result"
    }
   ],
   "source": [
    "companies = companies.drop(['Unnamed: 0'], axis=1)\n",
    "companies.head()"
   ]
  },
  {
   "cell_type": "code",
   "execution_count": 13,
   "metadata": {},
   "outputs": [
    {
     "name": "stdout",
     "output_type": "stream",
     "text": [
      "MultiIndex([(     0,      0),\n",
      "            (     1,      1),\n",
      "            (     2,      2),\n",
      "            (     3,      3),\n",
      "            (     4,      4),\n",
      "            (     5,      5),\n",
      "            (     6,      6),\n",
      "            (     7,      7),\n",
      "            (     8,      8),\n",
      "            (     9,      9),\n",
      "            ...\n",
      "            (120248, 120248),\n",
      "            (120249, 120249),\n",
      "            (120251, 120251),\n",
      "            (120252, 120252),\n",
      "            (120253, 120253),\n",
      "            (120254, 120254),\n",
      "            (120255, 120255),\n",
      "            (120256, 120256),\n",
      "            (120257, 120257),\n",
      "            (120258, 120258)],\n",
      "           length=432050)\n"
     ]
    }
   ],
   "source": [
    "# Indicizzazione dei dati\n",
    "indexer = recordlinkage.Index()\n",
    "indexer.block('name') # Blocco sulla colonna \"name\" (blocco informazioni utilizzate per l'indicizzazione)\n",
    "pairs = indexer.index(companies, companies)\n",
    "\n",
    "print(pairs)"
   ]
  },
  {
   "cell_type": "code",
   "execution_count": 14,
   "metadata": {},
   "outputs": [
    {
     "data": {
      "text/plain": [
       "120259"
      ]
     },
     "execution_count": 14,
     "metadata": {},
     "output_type": "execute_result"
    }
   ],
   "source": [
    "num_companies = companies['name']\n",
    "np.size(num_companies)"
   ]
  },
  {
   "cell_type": "code",
   "execution_count": 15,
   "metadata": {},
   "outputs": [
    {
     "data": {
      "text/plain": [
       "71243"
      ]
     },
     "execution_count": 15,
     "metadata": {},
     "output_type": "execute_result"
    }
   ],
   "source": [
    "unique_companies = companies['name'].unique()\n",
    "np.size(unique_companies)"
   ]
  },
  {
   "attachments": {},
   "cell_type": "markdown",
   "metadata": {},
   "source": [
    "### Training"
   ]
  },
  {
   "cell_type": "code",
   "execution_count": 16,
   "metadata": {},
   "outputs": [],
   "source": [
    "train_pairs = pairs[:216000]\n",
    "test_pairs = pairs[216000:]"
   ]
  },
  {
   "cell_type": "code",
   "execution_count": 17,
   "metadata": {},
   "outputs": [
    {
     "data": {
      "text/plain": [
       "Index(['name', 'company_website', 'country', 'number_of_employees', 'industry',\n",
       "       'founded_year', 'market_cap', 'revenue', 'rank', 'sector', 'city',\n",
       "       'valuation', 'stock', 'ceo', 'market_value'],\n",
       "      dtype='object')"
      ]
     },
     "execution_count": 17,
     "metadata": {},
     "output_type": "execute_result"
    }
   ],
   "source": [
    "companies.columns"
   ]
  },
  {
   "cell_type": "code",
   "execution_count": 20,
   "metadata": {},
   "outputs": [
    {
     "data": {
      "text/plain": [
       "<Compare>"
      ]
     },
     "execution_count": 20,
     "metadata": {},
     "output_type": "execute_result"
    }
   ],
   "source": [
    "# Colonne che si vogliono confrontare\n",
    "compare = recordlinkage.Compare()\n",
    "\n",
    "compare.string(\"name\", \"name\", method=\"jarowinkler\", threshold=0.85)\n",
    "compare.string(\"country\", \"country\", method=\"jarowinkler\", threshold=0.85)\n",
    "compare.numeric(\"founded_year\", \"founded_year\", method=\"linear\")\n",
    "compare.numeric(\"revenue\", \"revenue\", method=\"linear\")\n",
    "compare.string(\"sector\", \"sector\", method=\"jarowinkler\", threshold=0.85)"
   ]
  },
  {
   "cell_type": "code",
   "execution_count": 21,
   "metadata": {},
   "outputs": [
    {
     "ename": "",
     "evalue": "",
     "output_type": "error",
     "traceback": [
      "\u001b[1;31mCanceled future for execute_request message before replies were done"
     ]
    },
    {
     "ename": "",
     "evalue": "",
     "output_type": "error",
     "traceback": [
      "\u001b[1;31mThe Kernel crashed while executing code in the the current cell or a previous cell. Please review the code in the cell(s) to identify a possible cause of the failure. Click <a href='https://aka.ms/vscodeJupyterKernelCrash'>here</a> for more info. View Jupyter <a href='command:jupyter.viewOutput'>log</a> for further details."
     ]
    }
   ],
   "source": [
    "# Calcolo funzioni di confronto\n",
    "training_features = compare.compute(train_pairs, companies, companies)\n",
    "\n",
    "# Colonna score somma i valori di confronto per ogni coppia di record\n",
    "training_features['score'] = training_features.loc[:, 'name':'city'].sum(axis=1)"
   ]
  },
  {
   "cell_type": "code",
   "execution_count": null,
   "metadata": {},
   "outputs": [],
   "source": [
    "# Seleziona solo le coppie di record che hanno un punteggio maggiore di 2 e reset dell'indice\n",
    "training_matches = training_features[training_features.sum(axis=1) > 2].reset_index()\n",
    "\n",
    "# Aggiornamento colonna score con la somma dei valori di confronto per ogni coppia di record selezionate\n",
    "training_matches['score'] = training_matches.loc[:, 'name':'city'].sum(axis=1)\n",
    "\n",
    "toDrop = ['name', 'company_website', 'country', 'city', 'industry', 'founded_year', 'score']\n",
    "training_matches = training_matches.drop(toDrop, axis=1)\n",
    "training_matches.head(9)"
   ]
  },
  {
   "cell_type": "code",
   "execution_count": null,
   "metadata": {},
   "outputs": [],
   "source": [
    "training_matches = pd.MultiIndex.from_frame(training_matches) #matches conversion\n",
    "training_features.head()"
   ]
  },
  {
   "cell_type": "code",
   "execution_count": null,
   "metadata": {},
   "outputs": [],
   "source": [
    "len(training_features)"
   ]
  },
  {
   "cell_type": "code",
   "execution_count": null,
   "metadata": {},
   "outputs": [],
   "source": [
    "len(training_matches)"
   ]
  },
  {
   "cell_type": "code",
   "execution_count": null,
   "metadata": {},
   "outputs": [],
   "source": [
    "classifier = recordlinkage.NaiveBayesClassifier()\n",
    "classifier.fit(training_features, training_matches)"
   ]
  },
  {
   "attachments": {},
   "cell_type": "markdown",
   "metadata": {},
   "source": [
    "### Test "
   ]
  },
  {
   "cell_type": "code",
   "execution_count": null,
   "metadata": {},
   "outputs": [],
   "source": [
    "# Colonne che si vogliono confrontare\n",
    "compare = recordlinkage.Compare()\n",
    "\n",
    "compare.string(\"name\", \"name\", method=\"jarowinkler\", threshold=0.85)\n",
    "compare.string(\"country\", \"country\", method=\"jarowinkler\", threshold=0.85)\n",
    "compare.numeric(\"founded_year\", \"founded_year\", method=\"linear\")\n",
    "compare.numeric(\"revenue\", \"revenue\", method=\"linear\")\n",
    "compare.string(\"sector\", \"sector\", method=\"jarowinkler\", threshold=0.85)"
   ]
  },
  {
   "cell_type": "code",
   "execution_count": null,
   "metadata": {},
   "outputs": [],
   "source": [
    "# Calcolo funzioni di confronto\n",
    "test_features = compare.compute(test_pairs, companies, companies)\n",
    "\n",
    "# Colonna score somma i valori di confronto per ogni coppia di record\n",
    "test_features['score'] = test_features.loc[:, 'name':'city'].sum(axis=1)"
   ]
  },
  {
   "cell_type": "code",
   "execution_count": null,
   "metadata": {},
   "outputs": [],
   "source": [
    "# Seleziona solo le coppie di record che hanno un punteggio maggiore di 2 e reset dell'indice\n",
    "test_matches = test_features[test_features.sum(axis=1) > 2].reset_index()\n",
    "\n",
    "# Aggiornamento colonna score con la somma dei valori di confronto per ogni coppia di record selezionate\n",
    "test_matches['score'] = test_matches.loc[:, 'name':'city'].sum(axis=1)\n",
    "\n",
    "toDrop = ['name', 'company_website', 'country', 'city', 'industry', 'founded_year', 'score']\n",
    "test_matches = test_matches.drop(toDrop, axis=1)\n",
    "test_matches.head(9)"
   ]
  },
  {
   "cell_type": "code",
   "execution_count": null,
   "metadata": {},
   "outputs": [],
   "source": [
    "len(test_features)"
   ]
  },
  {
   "cell_type": "code",
   "execution_count": null,
   "metadata": {},
   "outputs": [],
   "source": [
    "len(test_matches)"
   ]
  },
  {
   "cell_type": "code",
   "execution_count": null,
   "metadata": {},
   "outputs": [],
   "source": [
    "test_matches"
   ]
  },
  {
   "cell_type": "code",
   "execution_count": null,
   "metadata": {},
   "outputs": [],
   "source": [
    "test_matches = pd.MultiIndex.from_frame(test_matches) #matches conversion"
   ]
  },
  {
   "cell_type": "code",
   "execution_count": null,
   "metadata": {},
   "outputs": [],
   "source": [
    "predictions = classifier.predict(test_features)"
   ]
  },
  {
   "attachments": {},
   "cell_type": "markdown",
   "metadata": {},
   "source": [
    "### Evaluation"
   ]
  },
  {
   "cell_type": "code",
   "execution_count": null,
   "metadata": {},
   "outputs": [],
   "source": [
    "# return the confusion matrix\n",
    "confusion_matrix = recordlinkage.confusion_matrix(test_matches, predictions, len(test_features))\n",
    "print('confusion matrix')\n",
    "print(confusion_matrix)\n",
    "\n",
    "# compute the F-score for this classification\n",
    "fscore = recordlinkage.fscore(confusion_matrix)\n",
    "print('\\n\\nfscore', fscore)\n",
    "recall = recordlinkage.recall(test_matches, predictions)\n",
    "print('recall', recall)\n",
    "precision = recordlinkage.precision(test_matches, predictions)\n",
    "print('precision', precision)\n",
    "accuracy = recordlinkage.accuracy(test_matches, predictions, len(test_features))\n",
    "print('accuracy', accuracy)"
   ]
  },
  {
   "cell_type": "code",
   "execution_count": null,
   "metadata": {},
   "outputs": [],
   "source": [
    "print(len(predictions))"
   ]
  },
  {
   "cell_type": "code",
   "execution_count": null,
   "metadata": {},
   "outputs": [],
   "source": [
    "false_negatives = test_matches.difference(predictions)\n",
    "false_negatives"
   ]
  },
  {
   "cell_type": "code",
   "execution_count": null,
   "metadata": {},
   "outputs": [],
   "source": [
    "try:\n",
    "    fn_from_dfA = false_negatives[0][0]\n",
    "    fn_from_dfB = false_negatives[0][1]\n",
    "\n",
    "    display(companies[companies.index == fn_from_dfA])\n",
    "    display(companies[companies.index == fn_from_dfB])\n",
    "except:\n",
    "    print(\"No False Negatives Present\")"
   ]
  }
 ],
 "metadata": {
  "kernelspec": {
   "display_name": "Python 3",
   "language": "python",
   "name": "python3"
  },
  "language_info": {
   "codemirror_mode": {
    "name": "ipython",
    "version": 3
   },
   "file_extension": ".py",
   "mimetype": "text/x-python",
   "name": "python",
   "nbconvert_exporter": "python",
   "pygments_lexer": "ipython3",
   "version": "3.8.8"
  },
  "orig_nbformat": 4,
  "vscode": {
   "interpreter": {
    "hash": "0276ff69500abe2d91ba632e055fcb377451e51e6d19b9e80dff5426d1d4a679"
   }
  }
 },
 "nbformat": 4,
 "nbformat_minor": 2
}
