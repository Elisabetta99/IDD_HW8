{
 "cells": [
  {
   "attachments": {},
   "cell_type": "markdown",
   "metadata": {},
   "source": [
    "## Unione dataset con FlexMatcher"
   ]
  },
  {
   "cell_type": "code",
   "execution_count": 20,
   "metadata": {},
   "outputs": [
    {
     "name": "stdout",
     "output_type": "stream",
     "text": [
      "Requirement already satisfied: recordlinkage in c:\\users\\giord\\anaconda3\\lib\\site-packages (0.15)\n",
      "Requirement already satisfied: numpy>=1.13.0 in c:\\users\\giord\\anaconda3\\lib\\site-packages (from recordlinkage) (1.20.1)\n",
      "Requirement already satisfied: joblib in c:\\users\\giord\\anaconda3\\lib\\site-packages (from recordlinkage) (1.0.1)\n",
      "Requirement already satisfied: jellyfish>=0.8.0 in c:\\users\\giord\\anaconda3\\lib\\site-packages (from recordlinkage) (0.9.0)\n",
      "Requirement already satisfied: scikit-learn>=0.19.0 in c:\\users\\giord\\anaconda3\\lib\\site-packages (from recordlinkage) (0.24.1)\n",
      "Requirement already satisfied: pandas<2,>=1 in c:\\users\\giord\\anaconda3\\lib\\site-packages (from recordlinkage) (1.2.4)\n",
      "Requirement already satisfied: scipy>=1 in c:\\users\\giord\\anaconda3\\lib\\site-packages (from recordlinkage) (1.6.2)\n",
      "Requirement already satisfied: pytz>=2017.3 in c:\\users\\giord\\anaconda3\\lib\\site-packages (from pandas<2,>=1->recordlinkage) (2021.1)\n",
      "Requirement already satisfied: python-dateutil>=2.7.3 in c:\\users\\giord\\anaconda3\\lib\\site-packages (from pandas<2,>=1->recordlinkage) (2.8.1)\n",
      "Requirement already satisfied: six>=1.5 in c:\\users\\giord\\anaconda3\\lib\\site-packages (from python-dateutil>=2.7.3->pandas<2,>=1->recordlinkage) (1.15.0)\n",
      "Requirement already satisfied: threadpoolctl>=2.0.0 in c:\\users\\giord\\anaconda3\\lib\\site-packages (from scikit-learn>=0.19.0->recordlinkage) (2.1.0)\n"
     ]
    }
   ],
   "source": [
    "!pip install flexmatcher\n",
    "!pip install --upgrade recordlinkage"
   ]
  },
  {
   "cell_type": "code",
   "execution_count": 22,
   "metadata": {},
   "outputs": [],
   "source": [
    "import pandas as pd\n",
    "import numpy as np\n",
    "\n",
    "from flexmatcher import FlexMatcher"
   ]
  },
  {
   "attachments": {},
   "cell_type": "markdown",
   "metadata": {},
   "source": [
    "### **cbinsight.com**"
   ]
  },
  {
   "cell_type": "code",
   "execution_count": 28,
   "metadata": {},
   "outputs": [],
   "source": [
    "# Leggi dataset\n",
    "cbi1 = pd.read_csv(\"de-sources-2022-2023/cbinsight.com/DDD-cbinsight.com.csv\")\n",
    "cbi2 = pd.read_json('de-sources-2022-2023/cbinsight.com/cbinsights.json')"
   ]
  },
  {
   "cell_type": "code",
   "execution_count": 29,
   "metadata": {},
   "outputs": [],
   "source": [
    "# Conversione file .csv in .json\n",
    "cbi1_json = cbi1.to_json(orient=\"records\")\n",
    "\n",
    "# Salva il file nella cartella cbinsight.com\n",
    "with open('de-sources-2022-2023/cbinsight.com/DDD-cbinsight.com.json', 'w') as f:\n",
    "    f.write(cbi1_json) "
   ]
  },
  {
   "cell_type": "code",
   "execution_count": 30,
   "metadata": {},
   "outputs": [],
   "source": [
    "cbi1 = pd.read_json(\"de-sources-2022-2023/cbinsight.com/DDD-cbinsight.com.json\", lines=True)"
   ]
  },
  {
   "cell_type": "code",
   "execution_count": 31,
   "metadata": {},
   "outputs": [],
   "source": [
    "# Definire la configurazione di corrispondenza\n",
    "match_config_cbi = [\n",
    "    {\n",
    "        \"left_on\": \"name\",\n",
    "        \"right_on\": \"company\",\n",
    "        \"label\": \"exact_match\",\n",
    "        \"method\": \"exact\",\n",
    "        \"threshold\": 1.0\n",
    "    },\n",
    "    {\n",
    "        \"left_on\": \"dateJoined\",\n",
    "        \"right_on\": \"datejoined\",\n",
    "        \"label\": \"exact_match\",\n",
    "        \"method\": \"exact\",\n",
    "        \"threshold\": 1.0\n",
    "    }\n",
    "]"
   ]
  },
  {
   "cell_type": "code",
   "execution_count": 32,
   "metadata": {},
   "outputs": [],
   "source": [
    "mappings_cbi = {\n",
    "    \"left_dataset_name\": \"cbi1\",\n",
    "    \"right_dataset_name\": \"cbi2\",\n",
    "    \"left_df_key\": \"dataset_cbi1\",\n",
    "    \"right_df_key\": \"dataset_cbi2\",\n",
    "    \"left_df_cols\": [\"name\", \"valuation\", \"dateJoined\", \"country\", \"city\", \"industry\", \"investors\", \"founded\", \"stage\", \"totalRaised\"],\n",
    "    \"right_df_cols\": [\"company\", \"valuation\", \"datejoined\", \"country\", \"city\", \"industry\", \"selectinvestors\"],\n",
    "}"
   ]
  },
  {
   "cell_type": "code",
   "execution_count": 36,
   "metadata": {},
   "outputs": [
    {
     "name": "stdout",
     "output_type": "stream",
     "text": [
      "Create training data ...\n"
     ]
    },
    {
     "ename": "AttributeError",
     "evalue": "'dict' object has no attribute 'sample'",
     "output_type": "error",
     "traceback": [
      "\u001b[1;31m---------------------------------------------------------------------------\u001b[0m",
      "\u001b[1;31mAttributeError\u001b[0m                            Traceback (most recent call last)",
      "\u001b[1;32m<ipython-input-36-a358438b3a4e>\u001b[0m in \u001b[0;36m<module>\u001b[1;34m\u001b[0m\n\u001b[0;32m      1\u001b[0m \u001b[1;31m# Inizializzazione FlexMatcher\u001b[0m\u001b[1;33m\u001b[0m\u001b[1;33m\u001b[0m\u001b[1;33m\u001b[0m\u001b[0m\n\u001b[1;32m----> 2\u001b[1;33m \u001b[0mfm_cbi\u001b[0m \u001b[1;33m=\u001b[0m \u001b[0mFlexMatcher\u001b[0m\u001b[1;33m(\u001b[0m\u001b[0mmatch_config_cbi\u001b[0m\u001b[1;33m,\u001b[0m \u001b[0mmappings_cbi\u001b[0m\u001b[1;33m)\u001b[0m\u001b[1;33m\u001b[0m\u001b[1;33m\u001b[0m\u001b[0m\n\u001b[0m",
      "\u001b[1;32mc:\\Users\\giord\\anaconda3\\lib\\site-packages\\flexmatcher\\flexmatcher.py\u001b[0m in \u001b[0;36m__init__\u001b[1;34m(self, dataframes, mappings, sample_size)\u001b[0m\n\u001b[0;32m     65\u001b[0m         \"\"\"\n\u001b[0;32m     66\u001b[0m         \u001b[0mprint\u001b[0m\u001b[1;33m(\u001b[0m\u001b[1;34m'Create training data ...'\u001b[0m\u001b[1;33m)\u001b[0m\u001b[1;33m\u001b[0m\u001b[1;33m\u001b[0m\u001b[0m\n\u001b[1;32m---> 67\u001b[1;33m         \u001b[0mself\u001b[0m\u001b[1;33m.\u001b[0m\u001b[0mcreate_training_data\u001b[0m\u001b[1;33m(\u001b[0m\u001b[0mdataframes\u001b[0m\u001b[1;33m,\u001b[0m \u001b[0mmappings\u001b[0m\u001b[1;33m,\u001b[0m \u001b[0msample_size\u001b[0m\u001b[1;33m)\u001b[0m\u001b[1;33m\u001b[0m\u001b[1;33m\u001b[0m\u001b[0m\n\u001b[0m\u001b[0;32m     68\u001b[0m         \u001b[0munigram_count_clf\u001b[0m \u001b[1;33m=\u001b[0m \u001b[0mclf\u001b[0m\u001b[1;33m.\u001b[0m\u001b[0mNGramClassifier\u001b[0m\u001b[1;33m(\u001b[0m\u001b[0mngram_range\u001b[0m\u001b[1;33m=\u001b[0m\u001b[1;33m(\u001b[0m\u001b[1;36m1\u001b[0m\u001b[1;33m,\u001b[0m \u001b[1;36m1\u001b[0m\u001b[1;33m)\u001b[0m\u001b[1;33m)\u001b[0m\u001b[1;33m\u001b[0m\u001b[1;33m\u001b[0m\u001b[0m\n\u001b[0;32m     69\u001b[0m         \u001b[0mbigram_count_clf\u001b[0m \u001b[1;33m=\u001b[0m \u001b[0mclf\u001b[0m\u001b[1;33m.\u001b[0m\u001b[0mNGramClassifier\u001b[0m\u001b[1;33m(\u001b[0m\u001b[0mngram_range\u001b[0m\u001b[1;33m=\u001b[0m\u001b[1;33m(\u001b[0m\u001b[1;36m2\u001b[0m\u001b[1;33m,\u001b[0m \u001b[1;36m2\u001b[0m\u001b[1;33m)\u001b[0m\u001b[1;33m)\u001b[0m\u001b[1;33m\u001b[0m\u001b[1;33m\u001b[0m\u001b[0m\n",
      "\u001b[1;32mc:\\Users\\giord\\anaconda3\\lib\\site-packages\\flexmatcher\\flexmatcher.py\u001b[0m in \u001b[0;36mcreate_training_data\u001b[1;34m(self, dataframes, mappings, sample_size)\u001b[0m\n\u001b[0;32m    117\u001b[0m         \u001b[0mcol_train_data_list\u001b[0m \u001b[1;33m=\u001b[0m \u001b[1;33m[\u001b[0m\u001b[1;33m]\u001b[0m\u001b[1;33m\u001b[0m\u001b[1;33m\u001b[0m\u001b[0m\n\u001b[0;32m    118\u001b[0m         \u001b[1;32mfor\u001b[0m \u001b[1;33m(\u001b[0m\u001b[0mdatafr\u001b[0m\u001b[1;33m,\u001b[0m \u001b[0mmapping\u001b[0m\u001b[1;33m)\u001b[0m \u001b[1;32min\u001b[0m \u001b[0mzip\u001b[0m\u001b[1;33m(\u001b[0m\u001b[0mdataframes\u001b[0m\u001b[1;33m,\u001b[0m \u001b[0mmappings\u001b[0m\u001b[1;33m)\u001b[0m\u001b[1;33m:\u001b[0m\u001b[1;33m\u001b[0m\u001b[1;33m\u001b[0m\u001b[0m\n\u001b[1;32m--> 119\u001b[1;33m             \u001b[0msampled_rows\u001b[0m \u001b[1;33m=\u001b[0m \u001b[0mdatafr\u001b[0m\u001b[1;33m.\u001b[0m\u001b[0msample\u001b[0m\u001b[1;33m(\u001b[0m\u001b[0mmin\u001b[0m\u001b[1;33m(\u001b[0m\u001b[0msample_size\u001b[0m\u001b[1;33m,\u001b[0m \u001b[0mdatafr\u001b[0m\u001b[1;33m.\u001b[0m\u001b[0mshape\u001b[0m\u001b[1;33m[\u001b[0m\u001b[1;36m0\u001b[0m\u001b[1;33m]\u001b[0m\u001b[1;33m)\u001b[0m\u001b[1;33m)\u001b[0m\u001b[1;33m\u001b[0m\u001b[1;33m\u001b[0m\u001b[0m\n\u001b[0m\u001b[0;32m    120\u001b[0m             \u001b[0msampled_data\u001b[0m \u001b[1;33m=\u001b[0m \u001b[0mpd\u001b[0m\u001b[1;33m.\u001b[0m\u001b[0mmelt\u001b[0m\u001b[1;33m(\u001b[0m\u001b[0msampled_rows\u001b[0m\u001b[1;33m)\u001b[0m\u001b[1;33m\u001b[0m\u001b[1;33m\u001b[0m\u001b[0m\n\u001b[0;32m    121\u001b[0m             \u001b[0msampled_data\u001b[0m\u001b[1;33m.\u001b[0m\u001b[0mcolumns\u001b[0m \u001b[1;33m=\u001b[0m \u001b[1;33m[\u001b[0m\u001b[1;34m'name'\u001b[0m\u001b[1;33m,\u001b[0m \u001b[1;34m'value'\u001b[0m\u001b[1;33m]\u001b[0m\u001b[1;33m\u001b[0m\u001b[1;33m\u001b[0m\u001b[0m\n",
      "\u001b[1;31mAttributeError\u001b[0m: 'dict' object has no attribute 'sample'"
     ]
    }
   ],
   "source": [
    "# Inizializzazione FlexMatcher\n",
    "fm_cbi = FlexMatcher(match_config_cbi, mappings_cbi)"
   ]
  },
  {
   "cell_type": "code",
   "execution_count": 38,
   "metadata": {},
   "outputs": [
    {
     "ename": "NameError",
     "evalue": "name 'fm_cbi' is not defined",
     "output_type": "error",
     "traceback": [
      "\u001b[1;31m---------------------------------------------------------------------------\u001b[0m",
      "\u001b[1;31mNameError\u001b[0m                                 Traceback (most recent call last)",
      "\u001b[1;32m<ipython-input-38-45d7743d586e>\u001b[0m in \u001b[0;36m<module>\u001b[1;34m\u001b[0m\n\u001b[0;32m      1\u001b[0m \u001b[1;31m# Eseguire la corrispondenza\u001b[0m\u001b[1;33m\u001b[0m\u001b[1;33m\u001b[0m\u001b[1;33m\u001b[0m\u001b[0m\n\u001b[1;32m----> 2\u001b[1;33m \u001b[0mresult_cbi\u001b[0m \u001b[1;33m=\u001b[0m \u001b[0mfm_cbi\u001b[0m\u001b[1;33m.\u001b[0m\u001b[0mmatch\u001b[0m\u001b[1;33m(\u001b[0m\u001b[0mcbi1\u001b[0m\u001b[1;33m,\u001b[0m \u001b[0mcbi2\u001b[0m\u001b[1;33m)\u001b[0m\u001b[1;33m\u001b[0m\u001b[1;33m\u001b[0m\u001b[0m\n\u001b[0m",
      "\u001b[1;31mNameError\u001b[0m: name 'fm_cbi' is not defined"
     ]
    }
   ],
   "source": [
    "# Eseguire la corrispondenza\n",
    "result_cbi = fm_cbi.match(cbi1, cbi2)"
   ]
  },
  {
   "cell_type": "code",
   "execution_count": null,
   "metadata": {},
   "outputs": [],
   "source": [
    "# Salvare il risultato\n",
    "result_cbi.to_csv(\"cbinsights.csv\", index=False)"
   ]
  }
 ],
 "metadata": {
  "kernelspec": {
   "display_name": "Python 3",
   "language": "python",
   "name": "python3"
  },
  "language_info": {
   "codemirror_mode": {
    "name": "ipython",
    "version": 3
   },
   "file_extension": ".py",
   "mimetype": "text/x-python",
   "name": "python",
   "nbconvert_exporter": "python",
   "pygments_lexer": "ipython3",
   "version": "3.8.8"
  },
  "orig_nbformat": 4,
  "vscode": {
   "interpreter": {
    "hash": "0276ff69500abe2d91ba632e055fcb377451e51e6d19b9e80dff5426d1d4a679"
   }
  }
 },
 "nbformat": 4,
 "nbformat_minor": 2
}
